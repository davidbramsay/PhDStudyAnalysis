{
 "cells": [
  {
   "cell_type": "code",
   "execution_count": null,
   "id": "7e3b0c3e-e2c6-48e9-9898-327bd64bc9ad",
   "metadata": {},
   "outputs": [],
   "source": [
    "look at all zip files in PhDResults recursive and simply throw those out after downloading."
   ]
  }
 ],
 "metadata": {
  "kernelspec": {
   "display_name": "Python 3 (ipykernel)",
   "language": "python",
   "name": "python3"
  },
  "language_info": {
   "codemirror_mode": {
    "name": "ipython",
    "version": 3
   },
   "file_extension": ".py",
   "mimetype": "text/x-python",
   "name": "python",
   "nbconvert_exporter": "python",
   "pygments_lexer": "ipython3",
   "version": "3.9.16"
  }
 },
 "nbformat": 4,
 "nbformat_minor": 5
}

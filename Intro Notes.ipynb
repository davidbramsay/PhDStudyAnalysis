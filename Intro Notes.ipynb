{
 "cells": [
  {
   "cell_type": "markdown",
   "id": "7e5b5b7b-f682-4080-8218-3b0ba2d70482",
   "metadata": {},
   "source": [
    "## WELCOME\n",
    "\n",
    "This is a notebook that talks about the state of affairs with the processing of the data as it stands."
   ]
  },
  {
   "cell_type": "markdown",
   "id": "2e62ba51-c7ae-4236-a99d-1ad53616834a",
   "metadata": {},
   "source": [
    "### Incompleteness and random issues\n",
    "\n",
    "- User 15, HomeMidSurvey has the axes flipped; he mentioned it as he was completing it.\n",
    "- User 5 had a false start and restart on Home session 2/3.  I put his extra data in the folder.\n",
    "- User 22/24 went through 2 transitions instead of one in Session 3.  Their final responses estimating time are thus longer.  The second transition is in the 'second_transition' folder.\n",
    "- Timings for the glasses and watch are very off for Session #3.  The Pi RTC shuts down when it is unplugged and reinitializes at the last known time when repowered; timings cannot be trusted we can only use duration.\n",
    "  \n",
    "- Failed to get E4 data for one of the first two sessions for P12, P18, P20, and P21; failed to get E4 data for session 3 for P13.\n",
    "- Watch died for P2 during Session 3 (no timing on the end).\n",
    "- Some incomplete survey data for various people; incomplete flow drawings, P12 missed a huge amount of the last survey.\n",
    "\n",
    "\n",
    "# TODO\n",
    "- Process P12, P18, P20, and P21 on input; right now they fail with no E4 data.\n",
    "\n",
    "- SURVEY RENDERING PROBLEMS: we're missing these:\n",
    "- P7 LabMid2Survey- have survey but no flowpath data\n",
    "- P15 LabMid2Survey-- have survey but no flowpath data\n",
    "- P24 LabFinal-- no survey for lab final session. ARG.\n",
    "\n",
    "'FAILED SESSION PROCESSING'\n",
    "P11 sess1 LAB_DEMO\n",
    "P19 sess2 HOME_TETRIS\n",
    "P22 sess1 LAB_DEMO\n",
    "P23 sess2 FLOW_CONTD\n",
    "P24 sess1 LAB_DEMO\n",
    "\n",
    "- when processing personal E4, download all, delete those with .zip matches in PhDStudyResults\n",
    "- Requests to people that did not fill out the intro survey.\n",
    "- Requests to finish (Brian, Alicia, Sam; Ishwarya, Kara)\n",
    "\n",
    "# Intro survey\n",
    " - P1 is in the app; P4 was originally filled out by someone who didn't do the test on google form, deleted.\n",
    " - Done on device [1, 4, 10]\n",
    " - Done on google [2, 3, 5, 7, 9, 11, 12, 16, 17, 18, 20, 21, 22, 23, 24]\n",
    " - NOT DONE [6, 8, 13, 15, 19, 25]\n",
    "\n",
    " - Not done but done otherwise: [13, 15, 19]\n",
    " - Still working on it [6, 8, 25]\n",
    "\n",
    " - NOW DONE survey, not processed: 2. 3. 9. 12. 20. 21. 24."
   ]
  },
  {
   "cell_type": "markdown",
   "id": "6d8f0377-1648-480b-b930-918b4eb61711",
   "metadata": {},
   "source": [
    "## PIPELINE\n",
    "For new data, we need to run `python3 process_tetris_vids.py`.  It will only process new videos (no existing video_meta pickle).  This video_meta pickle is wrong atm, because it uses the timestamp in the filename as the start time, but the filename includes the last timestamp of the video.  We need to subtract the video duration from these timestamps before using them.  We should do this upon opening, so that we don't have ambiguous state in the meta file (it takes a really long time to run); or we could create meta_corrected.  The output here is a DF with timestamps based on OCRing the screen, looking for GAME OVER, PAUSE, etc, such that we know when the user is playing and when they lose.  We can assume they are more 'in the zone' the further into the game they are, and that they are not 'in the zone' when on the pause/game over screen.\n",
    "\n",
    "We run `Step 0a. Sess1and2 Processing` to process sess1 and sess2.  This does a whole host of things (hopefully)-- cleans up and processes the units of all incoming data (i.e. creates temperature plots from raw data, converts units for gyro/accel, etc), chops the E4 data to match each individual CSV session, runs a kalman filter on the accelerometer/gyro data, processes the survey data (make sure all scale are 1 indexed, process basic info about BIT and TAS, for example), pull out timings (Noticed, start/end transitions), generates flow drawings from user input, and saves everything as correctly timestamped DFs.\n",
    "\n",
    "Before doing this, we make sure we have exactly what we expect in terms of CSVs for each user/session.  Some of the sessions had brief pauses or restarts; we clean these up first and move them to the 'raw_csv' folder inside each session if there is a need to do pre-cleaning.  The data import script also is not robust to failures; we need to check data output and make sure everything has made it into the final DF, and fix it if not.\n",
    "\n",
    "To process Session 3, we use `Step 0b. Sess3 Processing`.  This pulls E4 data and puts it in DFs, pulls the relevant data between watch button presses from the CSVS in 'P<N>_sess3', and generates a timing df (start, start transition, end transition, noticed)."
   ]
  },
  {
   "cell_type": "markdown",
   "id": "29544366-2bb5-4949-847d-be9ddc6060a4",
   "metadata": {},
   "source": [
    "# ANALYSES"
   ]
  },
  {
   "cell_type": "raw",
   "id": "15871313-65b0-4f6f-be67-44ebbdbb27d0",
   "metadata": {},
   "source": [
    "Flow survey data and behavioral data by itself; compare Home vs Lab, Tetris vs Flow.  Summarize self report."
   ]
  },
  {
   "cell_type": "raw",
   "id": "6b1520a1-973d-4225-96b1-1d9b20d1fa89",
   "metadata": {},
   "source": [
    "Hierarchical Reaction Time data analysis."
   ]
  },
  {
   "cell_type": "raw",
   "id": "c5788e9b-0a9b-4df7-bcb4-c91b4f3bf043",
   "metadata": {},
   "source": [
    "Heirarchical Blink estimate analysis with prior over blinks."
   ]
  },
  {
   "cell_type": "raw",
   "id": "9b3d1933-e720-455a-8c75-19920b12e0d5",
   "metadata": {},
   "source": [
    "Patterns of physiology (self-similarity); summary stats of physiology per timeslice."
   ]
  },
  {
   "cell_type": "raw",
   "id": "679c5a0d-6dc7-48fe-a12d-8dd2781f86ac",
   "metadata": {},
   "source": [
    "HR comparisons -- (given from E4, derived from PPG, both wrists, and derived from glasses)."
   ]
  },
  {
   "cell_type": "code",
   "execution_count": null,
   "id": "645af802-3714-4e85-bc5a-567f2a46910c",
   "metadata": {},
   "outputs": [],
   "source": [
    "Trivially better flow guesses.  \n",
    "\n",
    "Prior, continuous flow state, time analysis."
   ]
  },
  {
   "cell_type": "code",
   "execution_count": null,
   "id": "c88a86dd-9edd-47c6-9c61-52f50c84299e",
   "metadata": {},
   "outputs": [],
   "source": [
    "ASSUMPTIONS WE COULD MAKE:\n",
    "\n",
    "flow is induced in all cases.  Justified by Survey data.\n",
    "\n",
    "flow is different in these cases, let's test.\n",
    "\n",
    "Flow changes over time."
   ]
  }
 ],
 "metadata": {
  "kernelspec": {
   "display_name": "Python 3 (ipykernel)",
   "language": "python",
   "name": "python3"
  },
  "language_info": {
   "codemirror_mode": {
    "name": "ipython",
    "version": 3
   },
   "file_extension": ".py",
   "mimetype": "text/x-python",
   "name": "python",
   "nbconvert_exporter": "python",
   "pygments_lexer": "ipython3",
   "version": "3.9.17"
  }
 },
 "nbformat": 4,
 "nbformat_minor": 5
}

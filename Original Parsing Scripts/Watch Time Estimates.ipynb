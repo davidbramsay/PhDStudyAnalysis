{
 "cells": [
  {
   "cell_type": "code",
   "execution_count": 14,
   "metadata": {},
   "outputs": [
    {
     "data": {
      "text/plain": [
       "'\\nimport firebase_admin\\nfrom firebase_admin import credentials\\nfrom firebase_admin import firestore\\n\\ncred = credentials.Certificate(\"../watchv1app-firebase-adminsdk-nzb87-8083b2ff94.json\")\\nfirebase_admin.initialize_app(cred)\\n\\ndb = firestore.client()\\n\\nconditions_ref = db.collection(u\\'conditions\\')\\nevents_ref = db.collection(u\\'events\\')\\n'"
      ]
     },
     "execution_count": 14,
     "metadata": {},
     "output_type": "execute_result"
    }
   ],
   "source": [
    "import json\n",
    "from datetime import datetime, timezone\n",
    "import time\n",
    "import numpy as np\n",
    "import codecs\n",
    "import struct\n",
    "import matplotlib.pyplot as plt\n",
    "import pandas as pd\n",
    "import pathlib\n",
    "import pickle\n",
    "\n",
    "%matplotlib inline\n",
    "\n",
    "\"\"\"\n",
    "import firebase_admin\n",
    "from firebase_admin import credentials\n",
    "from firebase_admin import firestore\n",
    "\n",
    "cred = credentials.Certificate(\"../watchv1app-firebase-adminsdk-nzb87-8083b2ff94.json\")\n",
    "firebase_admin.initialize_app(cred)\n",
    "\n",
    "db = firestore.client()\n",
    "\n",
    "conditions_ref = db.collection(u'conditions')\n",
    "events_ref = db.collection(u'events')\n",
    "\"\"\""
   ]
  },
  {
   "cell_type": "code",
   "execution_count": 140,
   "metadata": {},
   "outputs": [],
   "source": [
    "f = open('../watchData.json',)\n",
    "data = json.load(f)\n",
    "f.close()\n",
    "\n",
    "local_tz = datetime.now().astimezone().tzinfo\n",
    "real_data = []\n",
    "\n",
    "for k in data:\n",
    "    label = \"\"\n",
    "    if 'label' in data[k]: label = data[k]['label']\n",
    "    real_data.append({\n",
    "        'timestamp': datetime.fromtimestamp(data[k]['timestamp']['value']['_seconds']).astimezone(local_tz), \n",
    "        'type': data[k]['type'],\n",
    "        'data': data[k]['data'],\n",
    "        'uid' : data[k]['uid'][:3],\n",
    "        'label': label\n",
    "    })\n",
    "    \n",
    "data = sorted(real_data, key=lambda k: k['timestamp'])\n",
    "del real_data"
   ]
  },
  {
   "cell_type": "code",
   "execution_count": 141,
   "metadata": {},
   "outputs": [
    {
     "name": "stdout",
     "output_type": "stream",
     "text": [
      "03/25/21 10:11:46AM EDT  |  TIMESTAMP_UPDATE   |  -3\n",
      "03/25/21 10:25:01AM EDT  |  TIME_EST           |  10:20\n",
      "03/25/21 10:25:59AM EDT  |  TIME_SEEN          |  10:25\n",
      "03/25/21 11:55:34AM EDT  |  TIME_EST           |  11:14\n",
      "03/25/21 11:56:22AM EDT  |  TIME_SEEN          |  11:56\n",
      "03/25/21 01:11:38PM EDT  |  TIME_EST           |  12:27\n",
      "03/25/21 01:13:01PM EDT  |  TIME_SEEN          |  13:13\n",
      "03/25/21 01:28:19PM EDT  |  TIME_EST           |  13:40\n",
      "03/25/21 01:28:20PM EDT  |  TIME_SEEN          |  13:28\n",
      "03/25/21 02:49:54PM EDT  |  TIME_EST           |  14:37\n",
      "03/25/21 02:50:33PM EDT  |  TIME_SEEN          |  14:50\n",
      "03/25/21 03:09:28PM EDT  |  PREVIOUS_INVALID   |  \n",
      "03/25/21 03:09:31PM EDT  |  TIME_SEEN          |  15:09\n",
      "03/25/21 03:52:33PM EDT  |  TIME_EST           |  15:36\n",
      "03/25/21 03:52:34PM EDT  |  TIME_SEEN          |  15:52\n",
      "03/25/21 03:52:34PM EDT  |  PREVIOUS_INVALID   |  \n",
      "03/25/21 04:44:13PM EDT  |  TIME_EST           |  16:4\n",
      "03/25/21 04:45:04PM EDT  |  TIME_SEEN          |  16:45\n",
      "03/25/21 05:55:14PM EDT  |  TIME_EST           |  17:40\n",
      "03/25/21 05:55:15PM EDT  |  TIME_SEEN          |  17:55\n",
      "03/25/21 06:10:36PM EDT  |  TIMESTAMP_UPDATE   |  -1\n",
      "03/25/21 06:56:24PM EDT  |  TIME_EST           |  18:48\n",
      "03/25/21 06:57:05PM EDT  |  TIME_SEEN          |  18:57\n",
      "03/25/21 11:01:03PM EDT  |  TIMESTAMP_UPDATE   |  -1\n",
      "03/25/21 11:53:53PM EDT  |  TIMESTAMP_UPDATE   |  -22673\n",
      "03/25/21 11:55:25PM EDT  |  TIMESTAMP_UPDATE   |  -22581\n",
      "03/25/21 11:55:49PM EDT  |  TIMESTAMP_UPDATE   |  -22557\n",
      "---\n",
      "03/25/21 10:25-11:55 | interval: 89 | error: -41\n",
      "03/25/21 11:56-01:11 | interval: 75 | error: -44\n",
      "03/25/21 01:13-01:28 | interval: 15 | error: 12\n",
      "03/25/21 01:28-02:49 | interval: 81 | error: -12\n",
      "03/25/21 03:09-03:52 | interval: 43 | error: -16\n",
      "03/25/21 04:45-05:55 | interval: 70 | error: -15\n",
      "---\n",
      "[{'interval_string': '03/25/21 10:25-11:55', 'evening': False, 'interval': 89, 'error': -41, 'abs_error': 41}, {'interval_string': '03/25/21 11:56-01:11', 'evening': False, 'interval': 75, 'error': -44, 'abs_error': 44}, {'interval_string': '03/25/21 01:13-01:28', 'evening': False, 'interval': 15, 'error': 12, 'abs_error': 12}, {'interval_string': '03/25/21 01:28-02:49', 'evening': False, 'interval': 81, 'error': -12, 'abs_error': 12}, {'interval_string': '03/25/21 03:09-03:52', 'evening': False, 'interval': 43, 'error': -16, 'abs_error': 16}, {'interval_string': '03/25/21 04:45-05:55', 'evening': False, 'interval': 70, 'error': -15, 'abs_error': 15}]\n"
     ]
    }
   ],
   "source": [
    "def tsToStr(ts): return ts.strftime(\"%m/%d/%y %I:%M:%S%p %Z\")\n",
    "\n",
    "def print_data_from_day(day='03/25'):\n",
    "    return_data = []\n",
    "    for entry in data:\n",
    "        datestring = tsToStr(entry['timestamp'])\n",
    "        if (datestring[0:5] == day):\n",
    "            if label == \"\":\n",
    "                print(datestring, ' | ', entry['type'], ' | ', entry['data'])\n",
    "            else:\n",
    "                print(datestring, ' | ', entry['type'], ' | ', entry['data'], ' | ', entry['label'])\n",
    "            \n",
    "            return_data.append(entry)\n",
    "            \n",
    "    return return_data\n",
    "\n",
    "def print_data_from_day_without_survey(day='03/25'):\n",
    "    local_tz = datetime.now().astimezone().tzinfo\n",
    "    return_data = []\n",
    "    for entry in data:\n",
    "        datestring = tsToStr(entry['timestamp'])\n",
    "        if (datestring[0:5] == day and entry['type'] not in ['TX_SURVEY_RESULT', 'TX_SURVEY_INITIALIZED']):\n",
    "            \n",
    "            if entry['type'] == 'TX_TIME_SEEN':\n",
    "                s = entry['data'][2:]\n",
    "                datastring = s[6:8] + ':' + s[8:10]\n",
    "            else:\n",
    "                datastring = entry['data']\n",
    "            if label == \"\":\n",
    "                print(datestring, ' | ', \"{:<17}\".format(entry['type'][3:]), ' | ', datastring)\n",
    "            else:\n",
    "                print(datestring, ' | ', \"{:<17}\".format(entry['type'][3:]), ' | ', datastring, ' | ', entry['label'])\n",
    "            \n",
    "            return_data.append(entry)\n",
    "            \n",
    "    return return_data\n",
    "\n",
    "\n",
    "def get_timeest_error(entry):\n",
    "    #Return error in minutes from a time_est entry\n",
    "    real_time = entry['timestamp']\n",
    "    \n",
    "    guess_time = entry['timestamp'].replace(\n",
    "        hour=int(entry['data'].split(':')[0]), \n",
    "        minute=int(entry['data'].split(':')[1])\n",
    "    )\n",
    "    \n",
    "    if real_time > guess_time:\n",
    "        return -1*int((real_time-guess_time).seconds/60)\n",
    "    else:\n",
    "        return int((guess_time-real_time).seconds/60)\n",
    "    \n",
    "    \n",
    "def get_estimates(daydata):\n",
    "    #every 'TIME_EST' get error, duration since immediate previous\n",
    "    #if immediate previous is time_seen\n",
    "    return_data = []\n",
    "    for i in range(1, len(daydata)):\n",
    "        if daydata[i]['type']=='TX_TIME_EST' and daydata[i-1]['type']=='TX_TIME_SEEN':\n",
    "            \n",
    "            error = get_timeest_error(daydata[i])\n",
    "            interval = int((daydata[i]['timestamp']-daydata[i-1]['timestamp']).seconds/60)\n",
    "            intervalstring = tsToStr(daydata[i-1]['timestamp'])[0:14] + '-' + tsToStr(daydata[i]['timestamp'])[9:14]\n",
    "            eve = True if int(daydata[i-1]['timestamp'].strftime('%H')) >= 17 else False\n",
    "            evestring = ' | eve' if eve else ''\n",
    "            \n",
    "            if interval > 5:\n",
    "                print(intervalstring + ' | interval: ' + str(interval) + ' | error: ' + str(error) + evestring)\n",
    "            \n",
    "                return_data.append({\n",
    "                    'interval_string' : intervalstring,\n",
    "                    'evening' : eve,\n",
    "                    'interval': interval,\n",
    "                    'error': error,\n",
    "                    'abs_error': abs(error)\n",
    "                })\n",
    "            \n",
    "    return return_data\n",
    "\n",
    "#daydata = print_data_from_day()\n",
    "\n",
    "daydata = print_data_from_day_without_survey()\n",
    "print ('---')\n",
    "estimates = get_estimates(daydata)\n",
    "print('---')\n",
    "print(estimates)"
   ]
  },
  {
   "cell_type": "code",
   "execution_count": 142,
   "metadata": {},
   "outputs": [],
   "source": [
    "video_metadata = {\n",
    "'david_2'  : {'date': '03/25', 'vid_start': '03/25/21 01:41:01PM EDT'},      \n",
    "'patrick_1': {'date': '03/29', 'vid_start': '03/29/21 03:28:19PM EDT'},\n",
    "'patrick_2': {'date': '04/01', 'vid_start': '04/01/21 02:35:31PM EDT'},\n",
    "'beata_1'  : {'date': '04/02', 'vid_start': '04/02/21 12:16:30PM EDT'},\n",
    "'david_3b' : {'date': '04/06', 'vid_start': '04/06/21 04:48:22PM EDT'},\n",
    "'irmandy_1': {'date': '04/08', 'vid_start': '04/08/21 05:30:56PM EDT'},\n",
    "'juliana_1': {'date': '04/09', 'vid_start': '04/09/21 10:21:33AM EDT'},\n",
    "'irmandy_2': {'date': '04/16', 'vid_start': '04/16/21 05:35:15PM EDT'},\n",
    "'patrick_3': {'date': '04/28', 'vid_start': '04/28/21 01:10:00PM EDT'},\n",
    "}"
   ]
  },
  {
   "cell_type": "code",
   "execution_count": 143,
   "metadata": {},
   "outputs": [
    {
     "name": "stdout",
     "output_type": "stream",
     "text": [
      "04/09/21 10:00:16AM EDT  |  BEGIN_PAUSE        |  \n",
      "04/09/21 10:18:10AM EDT  |  TIMESTAMP_UPDATE   |  -1\n",
      "04/09/21 10:18:25AM EDT  |  BEGIN_PAUSE        |  \n",
      "04/09/21 10:18:27AM EDT  |  TIME_SEEN          |  10:18\n",
      "04/09/21 10:18:34AM EDT  |  BEGIN_PAUSE        |  \n",
      "04/09/21 10:18:50AM EDT  |  BEGIN_PAUSE        |  \n",
      "04/09/21 10:19:04AM EDT  |  PREVIOUS_INVALID   |  \n",
      "04/09/21 10:19:05AM EDT  |  TIME_SEEN          |  10:19\n",
      "04/09/21 10:22:36AM EDT  |  TIME_EST           |  12:0\n",
      "04/09/21 10:22:37AM EDT  |  TIME_SEEN          |  10:22\n",
      "04/09/21 10:22:54AM EDT  |  PREVIOUS_INVALID   |  \n",
      "04/09/21 10:22:58AM EDT  |  TIME_SEEN          |  10:22\n",
      "04/09/21 10:27:59AM EDT  |  TIME_EST           |  9:52\n",
      "04/09/21 10:28:00AM EDT  |  TIME_SEEN          |  10:28\n",
      "04/09/21 10:28:12AM EDT  |  TIME_EST           |  10:31\n",
      "04/09/21 10:28:13AM EDT  |  TIME_SEEN          |  10:28\n",
      "04/09/21 10:28:21AM EDT  |  PREVIOUS_INVALID   |  \n",
      "04/09/21 10:28:21AM EDT  |  PREVIOUS_INVALID   |  \n",
      "04/09/21 10:28:22AM EDT  |  TIME_SEEN          |  10:28\n",
      "04/09/21 10:44:46AM EDT  |  TIMESTAMP_UPDATE   |  0\n",
      "04/09/21 10:53:20AM EDT  |  TIME_EST           |  10:51\n",
      "04/09/21 10:53:21AM EDT  |  TIME_SEEN          |  10:53\n",
      "04/09/21 11:12:19AM EDT  |  TIME_EST           |  9:55\n",
      "04/09/21 11:12:21AM EDT  |  TIME_SEEN          |  11:12\n",
      "04/09/21 11:24:14AM EDT  |  TIME_EST           |  11:24\n",
      "04/09/21 11:24:15AM EDT  |  TIME_SEEN          |  11:24\n",
      "04/09/21 11:24:38AM EDT  |  TIME_EST           |  11:15\n",
      "04/09/21 11:24:39AM EDT  |  TIME_SEEN          |  11:24\n",
      "04/09/21 11:26:04AM EDT  |  TIME_EST           |  11:43\n",
      "04/09/21 11:26:05AM EDT  |  TIME_SEEN          |  11:26\n",
      "04/09/21 11:38:38AM EDT  |  TIME_EST           |  11:37\n",
      "04/09/21 11:38:39AM EDT  |  TIME_SEEN          |  11:38\n",
      "04/09/21 11:39:10AM EDT  |  TIME_EST           |  10:51\n",
      "04/09/21 11:39:12AM EDT  |  TIME_SEEN          |  11:39\n",
      "04/09/21 11:50:23AM EDT  |  PREVIOUS_INVALID   |  \n",
      "04/09/21 11:50:23AM EDT  |  PREVIOUS_INVALID   |  \n",
      "04/09/21 11:50:25AM EDT  |  TIME_SEEN          |  11:50\n",
      "04/09/21 12:05:39PM EDT  |  TIME_EST           |  11:54\n",
      "04/09/21 12:05:40PM EDT  |  TIME_SEEN          |  12:05\n",
      "04/09/21 12:09:23PM EDT  |  TIME_EST           |  12:11\n",
      "04/09/21 12:09:25PM EDT  |  TIME_SEEN          |  12:09\n",
      "04/09/21 12:10:27PM EDT  |  TIME_EST           |  12:11\n",
      "04/09/21 12:10:28PM EDT  |  TIME_SEEN          |  12:10\n",
      "04/09/21 12:12:48PM EDT  |  TIME_EST           |  12:17\n",
      "04/09/21 12:12:49PM EDT  |  TIME_SEEN          |  12:12\n",
      "04/09/21 12:13:10PM EDT  |  TIME_EST           |  12:8\n",
      "04/09/21 12:13:11PM EDT  |  TIME_SEEN          |  12:13\n",
      "04/09/21 12:17:54PM EDT  |  TIME_EST           |  13:2\n",
      "04/09/21 12:17:55PM EDT  |  TIME_SEEN          |  12:17\n",
      "04/09/21 12:34:55PM EDT  |  TIME_EST           |  12:38\n",
      "04/09/21 12:34:56PM EDT  |  TIME_SEEN          |  12:34\n",
      "04/09/21 12:35:05PM EDT  |  TIME_EST           |  12:6\n",
      "04/09/21 12:35:06PM EDT  |  TIME_SEEN          |  12:35\n",
      "04/09/21 12:36:34PM EDT  |  TIME_EST           |  12:5\n",
      "04/09/21 12:36:35PM EDT  |  TIME_SEEN          |  12:36\n",
      "04/09/21 12:36:52PM EDT  |  TIME_EST           |  12:8\n",
      "04/09/21 12:36:53PM EDT  |  TIME_SEEN          |  12:36\n",
      "04/09/21 12:38:46PM EDT  |  TIME_EST           |  12:6\n",
      "04/09/21 12:38:47PM EDT  |  TIME_SEEN          |  12:38\n",
      "04/09/21 12:42:00PM EDT  |  PREVIOUS_INVALID   |  \n",
      "04/09/21 12:42:29PM EDT  |  TIME_SEEN          |  12:42\n",
      "04/09/21 12:59:21PM EDT  |  TIME_EST           |  11:48\n",
      "04/09/21 12:59:22PM EDT  |  TIME_SEEN          |  12:59\n",
      "04/09/21 01:03:16PM EDT  |  TIME_EST           |  13:4\n",
      "04/09/21 01:03:18PM EDT  |  TIME_SEEN          |  13:03\n",
      "04/09/21 01:06:51PM EDT  |  TIMESTAMP_UPDATE   |  1\n",
      "04/09/21 01:10:41PM EDT  |  TIME_EST           |  13:30\n",
      "04/09/21 01:10:42PM EDT  |  TIME_SEEN          |  13:10\n",
      "04/09/21 01:12:33PM EDT  |  TIMESTAMP_UPDATE   |  1\n",
      "04/09/21 01:17:47PM EDT  |  TIME_EST           |  13:8\n",
      "04/09/21 01:17:48PM EDT  |  TIME_SEEN          |  13:17\n",
      "04/09/21 01:18:34PM EDT  |  TIME_EST           |  13:9\n",
      "04/09/21 01:18:35PM EDT  |  TIME_SEEN          |  13:18\n",
      "04/09/21 01:27:35PM EDT  |  TIME_EST           |  13:46\n",
      "04/09/21 01:27:36PM EDT  |  TIME_SEEN          |  13:27\n",
      "04/09/21 01:41:01PM EDT  |  TIME_EST           |  13:29\n",
      "04/09/21 01:41:03PM EDT  |  TIME_SEEN          |  13:41\n",
      "04/09/21 02:08:14PM EDT  |  TIMESTAMP_UPDATE   |  0\n",
      "04/09/21 02:24:26PM EDT  |  TIME_EST           |  14:29\n",
      "04/09/21 02:24:27PM EDT  |  TIME_SEEN          |  14:24\n",
      "04/09/21 02:40:40PM EDT  |  TIME_EST           |  13:18\n",
      "04/09/21 02:40:42PM EDT  |  TIME_SEEN          |  14:40\n",
      "04/09/21 02:41:40PM EDT  |  TIME_EST           |  13:45\n",
      "04/09/21 02:41:41PM EDT  |  TIME_SEEN          |  14:41\n",
      "04/09/21 02:55:40PM EDT  |  TIME_EST           |  13:54\n",
      "04/09/21 02:55:41PM EDT  |  TIME_SEEN          |  14:55\n",
      "04/09/21 02:55:52PM EDT  |  TIME_EST           |  14:53\n",
      "04/09/21 02:55:53PM EDT  |  TIME_SEEN          |  14:55\n",
      "04/09/21 03:03:02PM EDT  |  TIME_EST           |  13:53\n",
      "04/09/21 03:03:03PM EDT  |  TIME_SEEN          |  15:03\n",
      "04/09/21 03:49:51PM EDT  |  TIME_EST           |  16:4\n",
      "04/09/21 03:49:52PM EDT  |  TIME_SEEN          |  15:49\n",
      "04/09/21 04:09:34PM EDT  |  TIME_EST           |  15:0\n",
      "04/09/21 04:09:35PM EDT  |  TIME_SEEN          |  16:09\n",
      "04/09/21 04:11:02PM EDT  |  TIMESTAMP_UPDATE   |  0\n",
      "04/09/21 04:13:04PM EDT  |  TIME_EST           |  17:8\n",
      "04/09/21 04:13:05PM EDT  |  TIME_SEEN          |  16:13\n",
      "04/09/21 04:17:56PM EDT  |  TIME_EST           |  16:3\n",
      "04/09/21 04:17:57PM EDT  |  TIME_SEEN          |  16:17\n",
      "04/09/21 04:18:16PM EDT  |  TIME_EST           |  15:46\n",
      "04/09/21 04:18:18PM EDT  |  TIME_SEEN          |  16:18\n",
      "04/09/21 04:18:33PM EDT  |  TIME_EST           |  16:18\n",
      "04/09/21 04:18:34PM EDT  |  TIME_SEEN          |  16:18\n",
      "04/09/21 04:18:41PM EDT  |  TIME_EST           |  16:14\n",
      "04/09/21 04:18:42PM EDT  |  TIME_SEEN          |  16:18\n",
      "04/09/21 04:18:55PM EDT  |  TIME_EST           |  16:3\n",
      "04/09/21 04:18:56PM EDT  |  TIME_SEEN          |  16:18\n",
      "04/09/21 04:19:03PM EDT  |  TIME_EST           |  16:1\n",
      "04/09/21 04:19:04PM EDT  |  TIME_SEEN          |  16:19\n",
      "04/09/21 04:19:16PM EDT  |  TIME_EST           |  15:45\n",
      "04/09/21 04:19:18PM EDT  |  TIME_SEEN          |  16:19\n",
      "04/09/21 04:19:29PM EDT  |  TIME_EST           |  16:1\n",
      "04/09/21 04:19:31PM EDT  |  TIME_SEEN          |  16:19\n",
      "---\n",
      "04/09/21 10:53-11:12 | interval: 18 | error: -77\n",
      "04/09/21 11:12-11:24 | interval: 11 | error: 0\n",
      "04/09/21 11:26-11:38 | interval: 12 | error: -1\n",
      "04/09/21 11:50-12:05 | interval: 15 | error: -11\n",
      "04/09/21 12:17-12:34 | interval: 17 | error: 4\n",
      "04/09/21 12:42-12:59 | interval: 16 | error: -71\n",
      "04/09/21 01:18-01:27 | interval: 9 | error: 19\n",
      "04/09/21 01:27-01:41 | interval: 13 | error: -12\n",
      "04/09/21 02:24-02:40 | interval: 16 | error: -82\n",
      "04/09/21 02:41-02:55 | interval: 13 | error: -61\n",
      "04/09/21 02:55-03:03 | interval: 7 | error: -70\n",
      "04/09/21 03:03-03:49 | interval: 46 | error: 15\n",
      "04/09/21 03:49-04:09 | interval: 19 | error: -69\n"
     ]
    }
   ],
   "source": [
    "daydata = print_data_from_day_without_survey('04/09')\n",
    "print ('---')\n",
    "e0 = get_estimates(daydata)"
   ]
  },
  {
   "cell_type": "code",
   "execution_count": 144,
   "metadata": {},
   "outputs": [
    {
     "name": "stdout",
     "output_type": "stream",
     "text": [
      "04/08/21 05:26:24PM EDT  |  TIMESTAMP_UPDATE   |  -2311\n",
      "04/08/21 05:27:32PM EDT  |  TIME_EST           |  15:18\n",
      "04/08/21 05:29:05PM EDT  |  TIME_SEEN          |  17:29\n",
      "04/08/21 05:29:23PM EDT  |  TIME_EST           |  17:58\n",
      "04/08/21 05:29:24PM EDT  |  TIME_SEEN          |  17:29\n",
      "04/08/21 05:29:30PM EDT  |  TIME_EST           |  17:15\n",
      "04/08/21 05:29:32PM EDT  |  TIME_SEEN          |  17:29\n",
      "04/08/21 05:29:38PM EDT  |  PREVIOUS_INVALID   |  \n",
      "04/08/21 05:29:42PM EDT  |  TIME_SEEN          |  17:29\n",
      "04/08/21 05:29:56PM EDT  |  TIME_EST           |  17:30\n",
      "04/08/21 05:29:57PM EDT  |  TIME_SEEN          |  17:29\n",
      "04/08/21 05:30:10PM EDT  |  TIME_EST           |  17:8\n",
      "04/08/21 05:30:11PM EDT  |  TIME_SEEN          |  17:30\n",
      "04/08/21 05:30:31PM EDT  |  TIME_EST           |  16:28\n",
      "04/08/21 05:30:32PM EDT  |  TIME_SEEN          |  17:30\n",
      "04/08/21 05:30:41PM EDT  |  TIME_EST           |  17:26\n",
      "04/08/21 05:30:42PM EDT  |  TIME_SEEN          |  17:30\n",
      "04/08/21 05:30:50PM EDT  |  TIME_EST           |  17:0\n",
      "04/08/21 05:30:51PM EDT  |  TIME_SEEN          |  17:30\n",
      "04/08/21 06:26:15PM EDT  |  TIME_EST           |  18:15\n",
      "04/08/21 06:27:12PM EDT  |  TIME_SEEN          |  18:27\n",
      "04/08/21 06:33:29PM EDT  |  TIMESTAMP_UPDATE   |  0\n",
      "04/08/21 06:47:24PM EDT  |  TIME_EST           |  18:16\n",
      "04/08/21 06:47:25PM EDT  |  TIME_SEEN          |  18:47\n",
      "04/08/21 07:15:10PM EDT  |  TIME_EST           |  19:17\n",
      "04/08/21 07:15:49PM EDT  |  TIME_SEEN          |  19:15\n",
      "04/08/21 07:22:44PM EDT  |  TIMESTAMP_UPDATE   |  1\n",
      "04/08/21 08:07:37PM EDT  |  TIMESTAMP_UPDATE   |  0\n",
      "04/08/21 08:28:30PM EDT  |  TIME_EST           |  20:48\n",
      "04/08/21 08:29:12PM EDT  |  TIME_SEEN          |  20:29\n",
      "04/08/21 09:27:03PM EDT  |  TIME_EST           |  21:2\n",
      "04/08/21 09:27:40PM EDT  |  TIME_SEEN          |  21:27\n",
      "04/08/21 09:27:49PM EDT  |  TIME_EST           |  21:33\n",
      "04/08/21 09:27:50PM EDT  |  TIME_SEEN          |  21:27\n",
      "04/08/21 09:53:25PM EDT  |  TIME_EST           |  21:0\n",
      "04/08/21 09:53:26PM EDT  |  TIME_SEEN          |  21:53\n",
      "04/08/21 09:58:26PM EDT  |  PREVIOUS_INVALID   |  \n",
      "04/08/21 09:58:26PM EDT  |  PREVIOUS_INVALID   |  \n",
      "04/08/21 09:58:27PM EDT  |  PREVIOUS_INVALID   |  \n",
      "04/08/21 09:58:33PM EDT  |  PREVIOUS_INVALID   |  \n",
      "04/08/21 09:58:36PM EDT  |  PREVIOUS_INVALID   |  \n",
      "04/08/21 09:58:41PM EDT  |  TIME_SEEN          |  21:58\n",
      "04/08/21 10:26:29PM EDT  |  TIME_EST           |  22:39\n",
      "04/08/21 10:26:30PM EDT  |  TIME_SEEN          |  22:26\n",
      "04/08/21 10:40:32PM EDT  |  TIME_EST           |  21:58\n",
      "04/08/21 10:40:33PM EDT  |  TIME_SEEN          |  22:40\n",
      "04/08/21 10:45:11PM EDT  |  PREVIOUS_INVALID   |  \n",
      "04/08/21 10:45:15PM EDT  |  TIME_SEEN          |  22:45\n",
      "04/08/21 10:45:49PM EDT  |  TIMESTAMP_UPDATE   |  1\n",
      "04/08/21 10:54:17PM EDT  |  TIMESTAMP_UPDATE   |  0\n",
      "04/08/21 11:05:20PM EDT  |  TIME_EST           |  21:57\n",
      "04/08/21 11:05:22PM EDT  |  TIME_SEEN          |  23:05\n",
      "04/08/21 11:25:26PM EDT  |  TIMESTAMP_UPDATE   |  0\n",
      "04/08/21 11:48:33PM EDT  |  TIME_EST           |  22:56\n",
      "04/08/21 11:48:34PM EDT  |  TIME_SEEN          |  23:48\n",
      "04/08/21 11:56:16PM EDT  |  TIMESTAMP_UPDATE   |  0\n",
      "04/08/21 11:56:20PM EDT  |  TIME_EST           |  23:27\n",
      "04/08/21 11:56:21PM EDT  |  TIME_SEEN          |  23:56\n",
      "04/08/21 11:57:10PM EDT  |  TIME_EST           |  23:30\n",
      "04/08/21 11:57:11PM EDT  |  TIME_SEEN          |  23:57\n",
      "04/08/21 11:57:37PM EDT  |  TIME_EST           |  6:13\n",
      "04/08/21 11:57:38PM EDT  |  TIME_SEEN          |  23:57\n",
      "04/08/21 11:58:51PM EDT  |  TIME_EST           |  23:35\n",
      "04/08/21 11:58:52PM EDT  |  TIME_SEEN          |  23:58\n",
      "---\n",
      "04/08/21 05:30-06:26 | interval: 55 | error: -11 | eve\n",
      "04/08/21 06:47-07:15 | interval: 27 | error: 2 | eve\n",
      "04/08/21 08:29-09:27 | interval: 57 | error: -25 | eve\n",
      "04/08/21 09:27-09:53 | interval: 25 | error: -53 | eve\n",
      "04/08/21 09:58-10:26 | interval: 27 | error: 13 | eve\n",
      "04/08/21 10:26-10:40 | interval: 14 | error: -42 | eve\n",
      "04/16/21 05:33:56PM EDT  |  TIMESTAMP_UPDATE   |  -453\n",
      "04/16/21 05:35:49PM EDT  |  TIMESTAMP_UPDATE   |  0\n",
      "04/16/21 05:41:39PM EDT  |  PREVIOUS_INVALID   |  \n",
      "04/16/21 05:41:39PM EDT  |  PREVIOUS_INVALID   |  \n",
      "04/16/21 05:41:44PM EDT  |  TIME_SEEN          |  17:41\n",
      "04/16/21 05:41:45PM EDT  |  PREVIOUS_INVALID   |  \n",
      "04/16/21 05:41:48PM EDT  |  TIME_SEEN          |  17:41\n",
      "04/16/21 05:42:40PM EDT  |  TIME_EST           |  17:41\n",
      "04/16/21 05:43:13PM EDT  |  TIME_SEEN          |  17:43\n",
      "04/16/21 06:23:46PM EDT  |  TIME_EST           |  16:52\n",
      "04/16/21 06:23:47PM EDT  |  TIME_SEEN          |  18:23\n",
      "04/16/21 06:43:24PM EDT  |  TIME_EST           |  18:45\n",
      "04/16/21 06:43:54PM EDT  |  TIME_SEEN          |  18:43\n",
      "04/16/21 07:18:33PM EDT  |  TIME_EST           |  18:38\n",
      "04/16/21 07:18:34PM EDT  |  TIME_SEEN          |  19:18\n",
      "04/16/21 07:18:58PM EDT  |  TIME_EST           |  18:58\n",
      "04/16/21 07:18:59PM EDT  |  TIME_SEEN          |  19:18\n",
      "04/16/21 07:19:04PM EDT  |  TIME_EST           |  19:45\n",
      "04/16/21 07:19:06PM EDT  |  TIME_SEEN          |  19:19\n",
      "04/16/21 07:29:27PM EDT  |  TIME_EST           |  19:30\n",
      "04/16/21 07:29:56PM EDT  |  TIME_SEEN          |  19:29\n",
      "04/16/21 07:43:28PM EDT  |  TIMESTAMP_UPDATE   |  1\n",
      "04/16/21 08:15:37PM EDT  |  TIME_EST           |  20:2\n",
      "04/16/21 08:16:06PM EDT  |  TIME_SEEN          |  20:16\n",
      "04/16/21 08:24:27PM EDT  |  BEGIN_PAUSE        |  \n",
      "04/16/21 08:24:29PM EDT  |  BEGIN_PAUSE        |  \n",
      "04/16/21 08:24:50PM EDT  |  BEGIN_PAUSE        |  \n",
      "04/16/21 08:24:53PM EDT  |  BEGIN_PAUSE        |  \n",
      "04/16/21 08:24:56PM EDT  |  TIME_SEEN          |  20:24\n",
      "04/16/21 08:50:52PM EDT  |  TIMESTAMP_UPDATE   |  0\n",
      "04/16/21 09:01:11PM EDT  |  TIME_EST           |  20:36\n",
      "04/16/21 09:01:24PM EDT  |  PREVIOUS_INVALID   |  \n",
      "04/16/21 09:01:25PM EDT  |  PREVIOUS_INVALID   |  \n",
      "04/16/21 09:01:25PM EDT  |  PREVIOUS_INVALID   |  \n",
      "04/16/21 09:01:48PM EDT  |  PREVIOUS_INVALID   |  \n",
      "04/16/21 09:01:58PM EDT  |  PREVIOUS_INVALID   |  \n",
      "04/16/21 09:01:58PM EDT  |  PREVIOUS_INVALID   |  \n",
      "04/16/21 09:02:07PM EDT  |  TIME_SEEN          |  21:02\n",
      "04/16/21 09:33:12PM EDT  |  TIME_EST           |  22:20\n",
      "04/16/21 09:33:14PM EDT  |  TIME_SEEN          |  21:33\n",
      "04/16/21 09:33:23PM EDT  |  TIME_EST           |  21:29\n",
      "04/16/21 09:33:24PM EDT  |  TIME_SEEN          |  21:33\n",
      "04/16/21 09:38:42PM EDT  |  TIMESTAMP_UPDATE   |  0\n",
      "04/16/21 09:39:00PM EDT  |  TIMESTAMP_UPDATE   |  1\n",
      "04/16/21 09:55:24PM EDT  |  TIME_EST           |  21:58\n",
      "04/16/21 09:55:53PM EDT  |  TIME_SEEN          |  21:55\n",
      "04/16/21 10:11:18PM EDT  |  TIME_EST           |  21:46\n",
      "04/16/21 10:11:19PM EDT  |  TIME_SEEN          |  22:11\n",
      "---\n",
      "04/16/21 05:43-06:23 | interval: 40 | error: -91 | eve\n",
      "04/16/21 06:23-06:43 | interval: 19 | error: 2 | eve\n",
      "04/16/21 06:43-07:18 | interval: 34 | error: -40 | eve\n",
      "04/16/21 07:19-07:29 | interval: 10 | error: 1 | eve\n",
      "04/16/21 09:02-09:33 | interval: 31 | error: 47 | eve\n",
      "04/16/21 09:55-10:11 | interval: 15 | error: -25 | eve\n"
     ]
    }
   ],
   "source": [
    "daydata = print_data_from_day_without_survey('04/08')\n",
    "print ('---')\n",
    "irmandy1_estimates = get_estimates(daydata)\n",
    "\n",
    "daydata = print_data_from_day_without_survey('04/16')\n",
    "print ('---')\n",
    "irmandy2_estimates = get_estimates(daydata)\n",
    "\n",
    "e1 = irmandy1_estimates + irmandy2_estimates"
   ]
  },
  {
   "cell_type": "code",
   "execution_count": 145,
   "metadata": {},
   "outputs": [
    {
     "name": "stdout",
     "output_type": "stream",
     "text": [
      "04/02/21 12:11:37PM EDT  |  TIMESTAMP_UPDATE   |  397\n",
      "04/02/21 12:17:55PM EDT  |  TIME_SEEN          |  12:17\n",
      "04/02/21 12:18:17PM EDT  |  TIME_EST           |  11:51\n",
      "04/02/21 12:18:19PM EDT  |  TIME_SEEN          |  12:18\n",
      "04/02/21 12:58:28PM EDT  |  TIME_EST           |  12:30\n",
      "04/02/21 01:00:17PM EDT  |  TIME_SEEN          |  13:00\n",
      "04/02/21 01:36:30PM EDT  |  TIMESTAMP_UPDATE   |  0\n",
      "04/02/21 01:37:11PM EDT  |  TIME_SEEN          |  13:37\n",
      "04/02/21 02:16:25PM EDT  |  TIME_EST           |  14:15\n",
      "04/02/21 02:17:20PM EDT  |  TIME_SEEN          |  14:17\n",
      "04/02/21 03:00:29PM EDT  |  TIME_EST           |  14:30\n",
      "04/02/21 03:01:33PM EDT  |  TIME_SEEN          |  15:01\n",
      "04/02/21 03:35:50PM EDT  |  TIME_EST           |  15:33\n",
      "04/02/21 03:36:48PM EDT  |  TIME_SEEN          |  15:36\n",
      "04/02/21 04:09:26PM EDT  |  TIME_EST           |  16:0\n",
      "04/02/21 04:10:13PM EDT  |  TIME_SEEN          |  16:10\n",
      "04/02/21 04:37:22PM EDT  |  TIME_EST           |  16:31\n",
      "04/02/21 04:38:14PM EDT  |  TIME_SEEN          |  16:38\n",
      "04/02/21 04:53:22PM EDT  |  TIME_EST           |  16:31\n",
      "04/02/21 04:53:23PM EDT  |  TIME_SEEN          |  16:53\n",
      "04/02/21 04:54:26PM EDT  |  TIMESTAMP_UPDATE   |  0\n",
      "04/02/21 05:27:49PM EDT  |  TIMESTAMP_UPDATE   |  1\n",
      "04/02/21 05:28:19PM EDT  |  TIME_SEEN          |  17:28\n",
      "04/02/21 06:02:01PM EDT  |  TIMESTAMP_UPDATE   |  1\n",
      "04/02/21 06:02:35PM EDT  |  TIME_SEEN          |  18:02\n",
      "04/02/21 06:29:23PM EDT  |  TIME_EST           |  18:30\n",
      "04/02/21 06:30:13PM EDT  |  TIME_SEEN          |  18:30\n",
      "04/02/21 07:10:47PM EDT  |  TIME_EST           |  19:0\n",
      "04/02/21 07:11:34PM EDT  |  TIME_SEEN          |  19:11\n",
      "04/02/21 07:57:11PM EDT  |  TIMESTAMP_UPDATE   |  -1\n",
      "04/02/21 07:57:42PM EDT  |  TIME_SEEN          |  19:57\n",
      "04/02/21 07:57:52PM EDT  |  TIME_EST           |  18:53\n",
      "04/02/21 07:57:53PM EDT  |  TIME_SEEN          |  19:57\n",
      "04/02/21 08:25:17PM EDT  |  TIME_EST           |  20:30\n",
      "04/02/21 08:26:05PM EDT  |  TIME_SEEN          |  20:26\n",
      "04/02/21 08:27:31PM EDT  |  TIME_EST           |  19:30\n",
      "04/02/21 08:27:32PM EDT  |  TIME_SEEN          |  20:27\n",
      "04/02/21 08:27:39PM EDT  |  TIME_EST           |  20:38\n",
      "04/02/21 08:27:40PM EDT  |  TIME_SEEN          |  20:27\n",
      "04/02/21 08:30:34PM EDT  |  BEGIN_PAUSE        |  \n",
      "---\n",
      "04/02/21 12:18-12:58 | interval: 40 | error: -28\n",
      "04/02/21 01:37-02:16 | interval: 39 | error: -1\n",
      "04/02/21 02:17-03:00 | interval: 43 | error: -30\n",
      "04/02/21 03:01-03:35 | interval: 34 | error: -2\n",
      "04/02/21 03:36-04:09 | interval: 32 | error: -9\n",
      "04/02/21 04:10-04:37 | interval: 27 | error: -6\n",
      "04/02/21 04:38-04:53 | interval: 15 | error: -22\n",
      "04/02/21 06:02-06:29 | interval: 26 | error: 1 | eve\n",
      "04/02/21 06:30-07:10 | interval: 40 | error: -10 | eve\n",
      "04/02/21 07:57-08:25 | interval: 27 | error: 5 | eve\n"
     ]
    }
   ],
   "source": [
    "daydata = print_data_from_day_without_survey('04/02')\n",
    "print ('---')\n",
    "e2 = get_estimates(daydata)"
   ]
  },
  {
   "cell_type": "code",
   "execution_count": 146,
   "metadata": {},
   "outputs": [
    {
     "name": "stdout",
     "output_type": "stream",
     "text": [
      "03/29/21 02:05:41PM EDT  |  TIMESTAMP_UPDATE   |  7467\n",
      "03/29/21 02:05:59PM EDT  |  PREVIOUS_INVALID   |  \n",
      "03/29/21 02:06:00PM EDT  |  TIME_SEEN          |  14:06\n",
      "03/29/21 03:02:54PM EDT  |  TIMESTAMP_UPDATE   |  10989\n",
      "03/29/21 03:03:24PM EDT  |  PREVIOUS_INVALID   |  \n",
      "03/29/21 03:03:25PM EDT  |  TIME_SEEN          |  15:03\n",
      "03/29/21 03:32:52PM EDT  |  TIMESTAMP_UPDATE   |  0\n",
      "03/29/21 03:33:59PM EDT  |  TIME_SEEN          |  15:33\n",
      "03/29/21 04:04:54PM EDT  |  TIMESTAMP_UPDATE   |  1\n",
      "03/29/21 04:05:30PM EDT  |  TIME_SEEN          |  16:05\n",
      "03/29/21 04:45:21PM EDT  |  TIME_EST           |  16:17\n",
      "03/29/21 04:46:15PM EDT  |  TIME_SEEN          |  16:46\n",
      "03/29/21 05:30:22PM EDT  |  TIME_EST           |  17:14\n",
      "03/29/21 05:31:09PM EDT  |  TIME_SEEN          |  17:31\n",
      "03/29/21 06:06:31PM EDT  |  TIME_EST           |  18:12\n",
      "03/29/21 06:07:24PM EDT  |  TIME_SEEN          |  18:07\n",
      "03/29/21 06:47:17PM EDT  |  TIME_EST           |  18:47\n",
      "03/29/21 06:48:07PM EDT  |  TIME_SEEN          |  18:48\n",
      "03/29/21 06:49:25PM EDT  |  TIMESTAMP_UPDATE   |  0\n",
      "03/29/21 06:49:36PM EDT  |  TIMESTAMP_UPDATE   |  1\n",
      "03/29/21 07:23:41PM EDT  |  TIMESTAMP_UPDATE   |  0\n",
      "03/29/21 07:24:05PM EDT  |  TIME_SEEN          |  19:24\n",
      "03/29/21 08:03:25PM EDT  |  TIME_EST           |  19:55\n",
      "03/29/21 08:04:24PM EDT  |  TIME_SEEN          |  20:04\n",
      "03/29/21 08:04:43PM EDT  |  TIME_EST           |  19:57\n",
      "03/29/21 08:04:44PM EDT  |  TIME_SEEN          |  20:04\n",
      "---\n",
      "03/29/21 04:05-04:45 | interval: 39 | error: -28\n",
      "03/29/21 04:46-05:30 | interval: 44 | error: -16\n",
      "03/29/21 05:31-06:06 | interval: 35 | error: 6 | eve\n",
      "03/29/21 06:07-06:47 | interval: 39 | error: 0 | eve\n",
      "03/29/21 07:24-08:03 | interval: 39 | error: -8 | eve\n",
      "04/01/21 03:02:06PM EDT  |  TIMESTAMP_UPDATE   |  10880\n",
      "04/01/21 03:07:36PM EDT  |  TIMESTAMP_UPDATE   |  1\n",
      "04/01/21 03:09:23PM EDT  |  TIMESTAMP_UPDATE   |  11393\n",
      "04/01/21 03:10:07PM EDT  |  TIME_EST           |  14:18\n",
      "04/01/21 03:10:58PM EDT  |  TIME_SEEN          |  15:10\n",
      "04/01/21 03:46:22PM EDT  |  TIMESTAMP_UPDATE   |  0\n",
      "04/01/21 03:48:13PM EDT  |  TIMESTAMP_UPDATE   |  0\n",
      "04/01/21 03:48:43PM EDT  |  TIME_SEEN          |  15:48\n",
      "04/01/21 04:17:43PM EDT  |  TIME_EST           |  16:8\n",
      "04/01/21 04:18:23PM EDT  |  TIME_SEEN          |  16:18\n",
      "04/01/21 04:50:14PM EDT  |  TIME_EST           |  16:52\n",
      "04/01/21 04:50:59PM EDT  |  TIME_SEEN          |  16:50\n",
      "04/01/21 05:30:54PM EDT  |  TIMESTAMP_UPDATE   |  1\n",
      "04/01/21 05:31:22PM EDT  |  TIME_EST           |  17:8\n",
      "04/01/21 05:32:10PM EDT  |  TIME_SEEN          |  17:32\n",
      "04/01/21 05:33:12PM EDT  |  TIME_EST           |  17:40\n",
      "04/01/21 05:33:13PM EDT  |  TIME_SEEN          |  17:33\n",
      "04/01/21 06:08:39PM EDT  |  TIME_EST           |  17:13\n",
      "04/01/21 06:09:23PM EDT  |  TIME_SEEN          |  18:09\n",
      "04/01/21 06:49:37PM EDT  |  TIMESTAMP_UPDATE   |  0\n",
      "04/01/21 06:49:50PM EDT  |  TIME_SEEN          |  18:49\n",
      "04/01/21 07:25:15PM EDT  |  TIME_EST           |  19:27\n",
      "04/01/21 07:26:00PM EDT  |  TIME_SEEN          |  19:26\n",
      "04/01/21 07:48:05PM EDT  |  TIME_EST           |  18:47\n",
      "04/01/21 07:48:07PM EDT  |  TIME_SEEN          |  19:48\n",
      "04/01/21 07:49:24PM EDT  |  TIME_EST           |  18:49\n",
      "04/01/21 07:49:25PM EDT  |  TIME_SEEN          |  19:49\n",
      "04/01/21 08:04:23PM EDT  |  BEGIN_PAUSE        |  \n",
      "04/01/21 08:04:58PM EDT  |  TIME_EST           |  19:54\n",
      "04/01/21 08:04:59PM EDT  |  TIME_SEEN          |  20:04\n",
      "04/01/21 08:05:09PM EDT  |  TIME_EST           |  20:32\n",
      "04/01/21 08:05:10PM EDT  |  TIME_SEEN          |  20:05\n",
      "---\n",
      "04/01/21 03:48-04:17 | interval: 29 | error: -9\n",
      "04/01/21 04:18-04:50 | interval: 31 | error: 2\n",
      "04/01/21 05:33-06:08 | interval: 35 | error: -55 | eve\n",
      "04/01/21 06:49-07:25 | interval: 35 | error: 2 | eve\n",
      "04/01/21 07:26-07:48 | interval: 22 | error: -61 | eve\n",
      "04/28/21 12:59:55PM EDT  |  TIMESTAMP_UPDATE   |  -32151\n",
      "04/28/21 01:20:53PM EDT  |  PREVIOUS_INVALID   |  \n",
      "04/28/21 01:20:54PM EDT  |  PREVIOUS_INVALID   |  \n",
      "04/28/21 01:20:55PM EDT  |  PREVIOUS_INVALID   |  \n",
      "04/28/21 01:20:56PM EDT  |  PREVIOUS_INVALID   |  \n",
      "04/28/21 01:20:59PM EDT  |  PREVIOUS_INVALID   |  \n",
      "04/28/21 01:20:59PM EDT  |  PREVIOUS_INVALID   |  \n",
      "04/28/21 01:20:59PM EDT  |  PREVIOUS_INVALID   |  \n",
      "04/28/21 01:21:00PM EDT  |  PREVIOUS_INVALID   |  \n",
      "04/28/21 01:21:00PM EDT  |  PREVIOUS_INVALID   |  \n",
      "04/28/21 01:21:00PM EDT  |  PREVIOUS_INVALID   |  \n",
      "04/28/21 01:21:00PM EDT  |  PREVIOUS_INVALID   |  \n",
      "04/28/21 01:21:02PM EDT  |  PREVIOUS_INVALID   |  \n",
      "04/28/21 01:21:02PM EDT  |  PREVIOUS_INVALID   |  \n",
      "04/28/21 01:21:07PM EDT  |  TIME_SEEN          |  13:21\n",
      "04/28/21 01:21:15PM EDT  |  TIME_EST           |  13:18\n",
      "04/28/21 01:21:16PM EDT  |  TIME_SEEN          |  13:21\n",
      "04/28/21 01:21:46PM EDT  |  TIME_EST           |  13:31\n",
      "04/28/21 01:22:24PM EDT  |  TIME_SEEN          |  13:22\n",
      "04/28/21 02:15:19PM EDT  |  TIME_EST           |  14:20\n",
      "04/28/21 02:15:52PM EDT  |  TIME_SEEN          |  14:15\n",
      "04/28/21 03:17:04PM EDT  |  TIMESTAMP_UPDATE   |  -1\n",
      "04/28/21 03:17:46PM EDT  |  TIMESTAMP_UPDATE   |  1\n",
      "04/28/21 03:18:06PM EDT  |  TIME_SEEN          |  15:18\n",
      "04/28/21 04:25:46PM EDT  |  TIMESTAMP_UPDATE   |  0\n",
      "04/28/21 04:26:14PM EDT  |  TIME_SEEN          |  16:26\n",
      "04/28/21 05:31:50PM EDT  |  TIMESTAMP_UPDATE   |  0\n",
      "04/28/21 05:32:25PM EDT  |  TIMESTAMP_UPDATE   |  1\n",
      "04/28/21 05:33:13PM EDT  |  TIMESTAMP_UPDATE   |  1\n",
      "04/28/21 05:33:40PM EDT  |  TIME_SEEN          |  17:33\n",
      "04/28/21 06:27:24PM EDT  |  BEGIN_PAUSE        |  \n",
      "---\n",
      "04/28/21 01:22-02:15 | interval: 52 | error: 5\n",
      "[{'interval_string': '03/29/21 04:05-04:45', 'evening': False, 'interval': 39, 'error': -28, 'abs_error': 28}, {'interval_string': '03/29/21 04:46-05:30', 'evening': False, 'interval': 44, 'error': -16, 'abs_error': 16}, {'interval_string': '03/29/21 05:31-06:06', 'evening': True, 'interval': 35, 'error': 6, 'abs_error': 6}, {'interval_string': '03/29/21 06:07-06:47', 'evening': True, 'interval': 39, 'error': 0, 'abs_error': 0}, {'interval_string': '03/29/21 07:24-08:03', 'evening': True, 'interval': 39, 'error': -8, 'abs_error': 8}, {'interval_string': '04/01/21 03:48-04:17', 'evening': False, 'interval': 29, 'error': -9, 'abs_error': 9}, {'interval_string': '04/01/21 04:18-04:50', 'evening': False, 'interval': 31, 'error': 2, 'abs_error': 2}, {'interval_string': '04/01/21 05:33-06:08', 'evening': True, 'interval': 35, 'error': -55, 'abs_error': 55}, {'interval_string': '04/01/21 06:49-07:25', 'evening': True, 'interval': 35, 'error': 2, 'abs_error': 2}, {'interval_string': '04/01/21 07:26-07:48', 'evening': True, 'interval': 22, 'error': -61, 'abs_error': 61}, {'interval_string': '04/28/21 01:22-02:15', 'evening': False, 'interval': 52, 'error': 5, 'abs_error': 5}]\n"
     ]
    }
   ],
   "source": [
    "daydata = print_data_from_day_without_survey('03/29')\n",
    "print ('---')\n",
    "patrick1_estimates = get_estimates(daydata)\n",
    "\n",
    "daydata = print_data_from_day_without_survey('04/01')\n",
    "print ('---')\n",
    "patrick2_estimates = get_estimates(daydata)\n",
    "\n",
    "daydata = print_data_from_day_without_survey('04/28')\n",
    "print ('---')\n",
    "patrick3_estimates = get_estimates(daydata)\n",
    "\n",
    "e3 = patrick1_estimates + patrick2_estimates + patrick3_estimates\n",
    "print(e3)"
   ]
  },
  {
   "cell_type": "code",
   "execution_count": 147,
   "metadata": {},
   "outputs": [
    {
     "name": "stdout",
     "output_type": "stream",
     "text": [
      "03/25/21 10:11:46AM EDT  |  TIMESTAMP_UPDATE   |  -3\n",
      "03/25/21 10:25:01AM EDT  |  TIME_EST           |  10:20\n",
      "03/25/21 10:25:59AM EDT  |  TIME_SEEN          |  10:25\n",
      "03/25/21 11:55:34AM EDT  |  TIME_EST           |  11:14\n",
      "03/25/21 11:56:22AM EDT  |  TIME_SEEN          |  11:56\n",
      "03/25/21 01:11:38PM EDT  |  TIME_EST           |  12:27\n",
      "03/25/21 01:13:01PM EDT  |  TIME_SEEN          |  13:13\n",
      "03/25/21 01:28:19PM EDT  |  TIME_EST           |  13:40\n",
      "03/25/21 01:28:20PM EDT  |  TIME_SEEN          |  13:28\n",
      "03/25/21 02:49:54PM EDT  |  TIME_EST           |  14:37\n",
      "03/25/21 02:50:33PM EDT  |  TIME_SEEN          |  14:50\n",
      "03/25/21 03:09:28PM EDT  |  PREVIOUS_INVALID   |  \n",
      "03/25/21 03:09:31PM EDT  |  TIME_SEEN          |  15:09\n",
      "03/25/21 03:52:33PM EDT  |  TIME_EST           |  15:36\n",
      "03/25/21 03:52:34PM EDT  |  TIME_SEEN          |  15:52\n",
      "03/25/21 03:52:34PM EDT  |  PREVIOUS_INVALID   |  \n",
      "03/25/21 04:44:13PM EDT  |  TIME_EST           |  16:4\n",
      "03/25/21 04:45:04PM EDT  |  TIME_SEEN          |  16:45\n",
      "03/25/21 05:55:14PM EDT  |  TIME_EST           |  17:40\n",
      "03/25/21 05:55:15PM EDT  |  TIME_SEEN          |  17:55\n",
      "03/25/21 06:10:36PM EDT  |  TIMESTAMP_UPDATE   |  -1\n",
      "03/25/21 06:56:24PM EDT  |  TIME_EST           |  18:48\n",
      "03/25/21 06:57:05PM EDT  |  TIME_SEEN          |  18:57\n",
      "03/25/21 11:01:03PM EDT  |  TIMESTAMP_UPDATE   |  -1\n",
      "03/25/21 11:53:53PM EDT  |  TIMESTAMP_UPDATE   |  -22673\n",
      "03/25/21 11:55:25PM EDT  |  TIMESTAMP_UPDATE   |  -22581\n",
      "03/25/21 11:55:49PM EDT  |  TIMESTAMP_UPDATE   |  -22557\n",
      "---\n",
      "03/25/21 10:25-11:55 | interval: 89 | error: -41\n",
      "03/25/21 11:56-01:11 | interval: 75 | error: -44\n",
      "03/25/21 01:13-01:28 | interval: 15 | error: 12\n",
      "03/25/21 01:28-02:49 | interval: 81 | error: -12\n",
      "03/25/21 03:09-03:52 | interval: 43 | error: -16\n",
      "03/25/21 04:45-05:55 | interval: 70 | error: -15\n"
     ]
    }
   ],
   "source": [
    "daydata = print_data_from_day_without_survey('03/25')\n",
    "print ('---')\n",
    "e4 = get_estimates(daydata)"
   ]
  },
  {
   "cell_type": "code",
   "execution_count": 148,
   "metadata": {},
   "outputs": [],
   "source": [
    "def print_data_from_day_without_survey(data):\n",
    "    local_tz = datetime.now().astimezone().tzinfo\n",
    "    for entry in data:\n",
    "        datestring = tsToStr(entry['timestamp'])\n",
    "        if (entry['type'] not in ['TX_SURVEY_RESULT', 'TX_SURVEY_INITIALIZED']):\n",
    "            \n",
    "            if entry['type'] == 'TX_TIME_SEEN':\n",
    "                s = entry['data'][2:]\n",
    "                datastring = s[6:8] + ':' + s[8:10]\n",
    "            else:\n",
    "                datastring = entry['data']\n",
    "            \n",
    "            print(datestring, ' | ', \"{:<17}\".format(entry['type'][3:]), ' | ', datastring)"
   ]
  },
  {
   "cell_type": "code",
   "execution_count": 149,
   "metadata": {},
   "outputs": [
    {
     "name": "stdout",
     "output_type": "stream",
     "text": [
      "09/26/21 01:48:48PM EDT  |  PREVIOUS_INVALID   |  \n",
      "09/26/21 01:48:49PM EDT  |  TIME_SEEN          |  13:48\n",
      "09/26/21 01:59:01PM EDT  |  TIME_EST           |  13:34\n",
      "09/26/21 02:10:47PM EDT  |  PREVIOUS_INVALID   |  \n",
      "09/26/21 02:10:48PM EDT  |  TIME_SEEN          |  14:10\n",
      "09/26/21 02:10:54PM EDT  |  PREVIOUS_INVALID   |  \n",
      "09/26/21 02:10:55PM EDT  |  TIME_SEEN          |  14:10\n",
      "09/26/21 02:11:05PM EDT  |  PREVIOUS_INVALID   |  \n",
      "09/26/21 02:11:08PM EDT  |  TIME_SEEN          |  14:11\n",
      "09/26/21 02:11:24PM EDT  |  TIME_EST           |  0:23\n",
      "09/26/21 02:28:29PM EDT  |  TIMESTAMP_UPDATE   |  1\n",
      "09/26/21 02:39:56PM EDT  |  PREVIOUS_INVALID   |  \n",
      "09/26/21 02:39:57PM EDT  |  TIME_SEEN          |  14:39\n",
      "09/26/21 02:40:13PM EDT  |  TIME_EST           |  0:33\n",
      "09/26/21 02:48:47PM EDT  |  TIMESTAMP_UPDATE   |  0\n",
      "09/26/21 02:54:13PM EDT  |  PREVIOUS_INVALID   |  \n",
      "09/26/21 02:54:14PM EDT  |  TIME_SEEN          |  14:54\n",
      "09/26/21 02:54:22PM EDT  |  PREVIOUS_INVALID   |  \n",
      "09/26/21 02:54:26PM EDT  |  TIME_SEEN          |  14:54\n",
      "09/26/21 02:54:39PM EDT  |  TIME_EST           |  0:12\n",
      "09/26/21 02:54:42PM EDT  |  PREVIOUS_INVALID   |  \n",
      "09/26/21 02:54:43PM EDT  |  TIME_SEEN          |  14:54\n",
      "09/26/21 03:39:41PM EDT  |  PREVIOUS_INVALID   |  \n",
      "09/26/21 03:39:42PM EDT  |  TIME_SEEN          |  15:39\n",
      "09/26/21 03:40:04PM EDT  |  TIME_EST           |  0:39\n",
      "09/26/21 04:14:18PM EDT  |  PREVIOUS_INVALID   |  \n",
      "09/26/21 04:14:21PM EDT  |  TIME_SEEN          |  16:14\n",
      "09/26/21 04:14:39PM EDT  |  TIME_EST           |  0:29\n",
      "09/26/21 04:14:41PM EDT  |  PREVIOUS_INVALID   |  \n",
      "09/26/21 04:14:42PM EDT  |  TIME_SEEN          |  16:14\n",
      "09/26/21 04:16:09PM EDT  |  PREVIOUS_INVALID   |  \n",
      "09/26/21 04:16:09PM EDT  |  PREVIOUS_INVALID   |  \n",
      "09/26/21 04:16:10PM EDT  |  PREVIOUS_INVALID   |  \n",
      "09/26/21 04:16:11PM EDT  |  TIME_SEEN          |  16:16\n",
      "09/26/21 04:37:52PM EDT  |  TIME_EST           |  16:57\n",
      "09/26/21 04:38:36PM EDT  |  PREVIOUS_INVALID   |  \n",
      "09/26/21 04:38:37PM EDT  |  PREVIOUS_INVALID   |  \n",
      "09/26/21 04:38:39PM EDT  |  TIME_SEEN          |  16:38\n",
      "09/26/21 04:53:28PM EDT  |  TIME_EST           |  16:58\n",
      "10/04/21 05:40:10PM EDT  |  TIMESTAMP_UPDATE   |  20254\n",
      "10/04/21 05:40:39PM EDT  |  TIME_EST           |  0:31\n",
      "10/04/21 05:42:18PM EDT  |  TIME_EST           |  16:52\n",
      "10/04/21 05:42:19PM EDT  |  TIME_SEEN          |  17:42\n",
      "10/04/21 05:42:41PM EDT  |  TIME_EST           |  17:41\n",
      "10/04/21 05:42:42PM EDT  |  TIME_SEEN          |  17:42\n",
      "09/26/21 01:48-01:59 | interval: 10 | error: -25\n",
      "09/26/21 04:16-04:37 | interval: 21 | error: 20\n",
      "09/26/21 04:38-04:53 | interval: 14 | error: 5\n"
     ]
    }
   ],
   "source": [
    "golfing_data = []\n",
    "for entry in data:\n",
    "    if (entry['label'] == 'golfing'):\n",
    "        golfing_data.append(entry)\n",
    "\n",
    "print_data_from_day_without_survey(golfing_data)\n",
    "golf_estimates = get_estimates(golfing_data)"
   ]
  },
  {
   "cell_type": "code",
   "execution_count": 150,
   "metadata": {},
   "outputs": [
    {
     "ename": "SyntaxError",
     "evalue": "invalid syntax (<ipython-input-150-fbd377d29c42>, line 9)",
     "output_type": "error",
     "traceback": [
      "\u001b[0;36m  File \u001b[0;32m\"<ipython-input-150-fbd377d29c42>\"\u001b[0;36m, line \u001b[0;32m9\u001b[0m\n\u001b[0;31m    'dur_4': 35, -- potentially me\u001b[0m\n\u001b[0m                                ^\u001b[0m\n\u001b[0;31mSyntaxError\u001b[0m\u001b[0;31m:\u001b[0m invalid syntax\n"
     ]
    }
   ],
   "source": [
    "## GOLFING took place Sept 26, starting at 1:48\n",
    "nathan = {\n",
    "    'seen': '1:48',\n",
    "    'dur_1': 17,\n",
    "    'dur_1_uncertainty': 7,\n",
    "    'dur_2': 25,\n",
    "    'dur_2_uncertainty': 10,\n",
    "    'dur_3': 30,\n",
    "    'dur_4': 35, -- potentially me\n",
    "    'seen': '3:41',\n",
    "    'dur_6': 30,'4:15' --could be durations\n",
    "    'seen': '4:16'\n",
    "    'dur_7' 25, '5:02' --could be duration\n",
    "    \n",
    "}\n",
    "\n",
    "sam = {\n",
    "    'seen': '1:48',\n",
    "    'dur_1' : 20,\n",
    "    'dur_1_uncertainty': 5,\n",
    "    'dur_2': 30,\n",
    "    'dur_2_uncertainty': 10,\n",
    "    'time_3': '2:10',\n",
    "    'time_3_uncertainty': 10,\n",
    "    'time_4': '3:10',\n",
    "    'time_4_uncertainty': 20,\n",
    "    'seen': '3:41',\n",
    "    'dur_5' : 65,\n",
    "    'time_6': '4:20', \n",
    "    'seen': '4:16',\n",
    "    'time_6_uncertainty': 10 --could be duration\n",
    "}\n",
    "\n",
    "david = {\n",
    "    '3:50' --potentially nathan\n",
    "}\n",
    "\n",
    "## first two durations are solid\n",
    "\n",
    "3:50 - 4:16 '4:15'\n",
    "4:38 - 4:53 '5:02'\n",
    "            \n",
    "1:48 - 1:59 '2:10'\n",
    "1:48 - 3:39 '3:10'\n",
    "3:41 - 4:16 '4:20'"
   ]
  },
  {
   "cell_type": "code",
   "execution_count": 151,
   "metadata": {},
   "outputs": [],
   "source": [
    "e5 = [{'interval_string': '09/26/21 01:48-01:59', 'evening': False, 'interval': 11, 'error': 11, 'abs_error': 11}, \n",
    "      {'interval_string': '09/26/21 01:48-03:39', 'evening': False, 'interval': 111, 'error': -29, 'abs_error': 29}, \n",
    "      {'interval_string': '09/26/21 03:41-04:16', 'evening': False, 'interval': 35, 'error': 4, 'abs_error': 4} \n",
    "    ]\n",
    "\n",
    "e6 = [{'interval_string': '09/26/21 03:50-04:16', 'evening': False, 'interval': 26, 'error': -1, 'abs_error': 1}, \n",
    "      {'interval_string': '09/26/21 03:50-04:53', 'evening': False, 'interval': 63, 'error': 9, 'abs_error': 9}\n",
    "    ]"
   ]
  },
  {
   "cell_type": "code",
   "execution_count": 152,
   "metadata": {},
   "outputs": [
    {
     "name": "stdout",
     "output_type": "stream",
     "text": [
      "{'interval_string': '04/09/21 10:53-11:12', 'evening': False, 'interval': 18, 'error': -77, 'abs_error': 77}\n",
      "{'interval_string': '04/09/21 10:53-11:12', 'evening': False, 'interval': 18, 'error': -17, 'abs_error': 137}\n",
      "{'interval_string': '04/09/21 12:42-12:59', 'evening': False, 'interval': 16, 'error': -71, 'abs_error': 71}\n",
      "{'interval_string': '04/09/21 12:42-12:59', 'evening': False, 'interval': 16, 'error': -11, 'abs_error': 131}\n",
      "{'interval_string': '04/09/21 02:24-02:40', 'evening': False, 'interval': 16, 'error': -82, 'abs_error': 82}\n",
      "{'interval_string': '04/09/21 02:24-02:40', 'evening': False, 'interval': 16, 'error': -22, 'abs_error': 142}\n",
      "{'interval_string': '04/09/21 02:41-02:55', 'evening': False, 'interval': 13, 'error': -61, 'abs_error': 61}\n",
      "{'interval_string': '04/09/21 02:41-02:55', 'evening': False, 'interval': 13, 'error': -1, 'abs_error': 121}\n",
      "{'interval_string': '04/09/21 02:55-03:03', 'evening': False, 'interval': 7, 'error': -70, 'abs_error': 70}\n",
      "{'interval_string': '04/09/21 02:55-03:03', 'evening': False, 'interval': 7, 'error': -10, 'abs_error': 130}\n",
      "{'interval_string': '04/09/21 03:49-04:09', 'evening': False, 'interval': 19, 'error': -69, 'abs_error': 69}\n",
      "{'interval_string': '04/09/21 03:49-04:09', 'evening': False, 'interval': 19, 'error': -9, 'abs_error': 129}\n",
      "{'interval_string': '04/08/21 09:27-09:53', 'evening': True, 'interval': 25, 'error': -53, 'abs_error': 53}\n",
      "{'interval_string': '04/08/21 09:27-09:53', 'evening': True, 'interval': 25, 'error': 7, 'abs_error': 113}\n",
      "{'interval_string': '04/08/21 10:26-10:40', 'evening': True, 'interval': 14, 'error': -42, 'abs_error': 42}\n",
      "{'interval_string': '04/08/21 10:26-10:40', 'evening': True, 'interval': 14, 'error': 18, 'abs_error': 102}\n",
      "{'interval_string': '04/16/21 05:43-06:23', 'evening': True, 'interval': 40, 'error': -91, 'abs_error': 91}\n",
      "{'interval_string': '04/16/21 05:43-06:23', 'evening': True, 'interval': 40, 'error': -31, 'abs_error': 151}\n",
      "{'interval_string': '04/01/21 05:33-06:08', 'evening': True, 'interval': 35, 'error': -55, 'abs_error': 55}\n",
      "{'interval_string': '04/01/21 05:33-06:08', 'evening': True, 'interval': 35, 'error': 5, 'abs_error': 115}\n",
      "{'interval_string': '04/01/21 07:26-07:48', 'evening': True, 'interval': 22, 'error': -61, 'abs_error': 61}\n",
      "{'interval_string': '04/01/21 07:26-07:48', 'evening': True, 'interval': 22, 'error': -1, 'abs_error': 121}\n"
     ]
    }
   ],
   "source": [
    "def flatten(t): return [item for sublist in t for item in sublist]\n",
    "\n",
    "es = [e0,e1,e2,e3,e4,e5,e6]\n",
    "flat_es = flatten(es)\n",
    "\n",
    "flat_es2 = []\n",
    "\n",
    "for entry in flat_es:\n",
    "    e = entry.copy()\n",
    "    if e['error'] < -40 and e['interval'] < 45:\n",
    "        print(e)\n",
    "        e['error'] += 60\n",
    "        e['abs_error'] += 60\n",
    "        \n",
    "        print(e)\n",
    "    flat_es2.append(e)"
   ]
  },
  {
   "cell_type": "code",
   "execution_count": 153,
   "metadata": {},
   "outputs": [
    {
     "name": "stdout",
     "output_type": "stream",
     "text": [
      "57\n"
     ]
    }
   ],
   "source": [
    "print(len(flat_es))"
   ]
  },
  {
   "cell_type": "code",
   "execution_count": 165,
   "metadata": {},
   "outputs": [
    {
     "data": {
      "image/png": "[encoded data removed]",
      "text/plain": [
       "<Figure size 360x360 with 1 Axes>"
      ]
     },
     "metadata": {
      "needs_background": "light"
     },
     "output_type": "display_data"
    }
   ],
   "source": [
    "plt.rcParams.update({'font.size': 13})\n",
    "def plot_errors(es):\n",
    "    fig, ax = plt.subplots(figsize=(5,5))\n",
    "    \n",
    "    xs, ys = [], []\n",
    "    for entry in es:\n",
    "        xs.append(entry['interval'])\n",
    "        ys.append(entry['interval'] + entry['error'])\n",
    "    plt.scatter(xs, ys)\n",
    "    ax.set(xlabel='Duration Since Last Time Check (min)')\n",
    "    ax.set(ylabel='Duration + Estimation Error (min)')\n",
    "    plt.plot([0,150],[0,150], '--', alpha=0.4)\n",
    "    plt.title('Time Perception Error vs Interval', fontsize=18)\n",
    "    plt.tight_layout()\n",
    "    \n",
    "    plt.savefig('time_perception_error', dpi=300)\n",
    "    plt.show()\n",
    "    \n",
    "plot_errors(flat_es)\n",
    "#plot_errors(flat_es2)"
   ]
  },
  {
   "cell_type": "code",
   "execution_count": 175,
   "metadata": {},
   "outputs": [
    {
     "name": "stdout",
     "output_type": "stream",
     "text": [
      "1908\n",
      "33.473684210526315\n",
      "1344\n",
      "-17.964912280701753\n",
      "7\n",
      "111\n"
     ]
    }
   ],
   "source": [
    "# n = 7 for watch\n",
    "# n = 7 for buzz - david, patrick, caroline, irmandy,  [fangzheng, ishwarya, one other person]\n",
    "times, errors = [], []\n",
    "\n",
    "for entry in flat_es:\n",
    "    times.append(entry['interval'])\n",
    "    errors.append(entry['error'])\n",
    "    \n",
    "print(sum(times))\n",
    "print(np.mean(times))\n",
    "print(sum([abs(e) for e in errors]))\n",
    "print(np.mean(errors))\n",
    "print(min(times))\n",
    "print(max(times))"
   ]
  },
  {
   "cell_type": "code",
   "execution_count": 168,
   "metadata": {},
   "outputs": [
    {
     "data": {
      "text/plain": [
       "31.8"
      ]
     },
     "execution_count": 168,
     "metadata": {},
     "output_type": "execute_result"
    }
   ],
   "source": [
    "1908/60"
   ]
  },
  {
   "cell_type": "code",
   "execution_count": 177,
   "metadata": {},
   "outputs": [
    {
     "name": "stdout",
     "output_type": "stream",
     "text": [
      "-7.05\n",
      "11.2\n"
     ]
    }
   ],
   "source": [
    "errors_clean = []\n",
    "for entry in flat_es:\n",
    "    if entry['interval'] > entry['abs_error']:\n",
    "        errors_clean.append(entry['error'])\n",
    "\n",
    "print(np.mean(errors_clean))\n",
    "print(np.mean([abs(e) for e in errors_clean]))"
   ]
  },
  {
   "cell_type": "code",
   "execution_count": 178,
   "metadata": {},
   "outputs": [
    {
     "name": "stdout",
     "output_type": "stream",
     "text": [
      "person\n",
      "{'interval_string': '04/09/21 10:53-11:12', 'evening': False, 'interval': 18, 'error': -77, 'abs_error': 77}\n",
      "{'interval_string': '04/09/21 12:42-12:59', 'evening': False, 'interval': 16, 'error': -71, 'abs_error': 71}\n",
      "{'interval_string': '04/09/21 01:18-01:27', 'evening': False, 'interval': 9, 'error': 19, 'abs_error': 19}\n",
      "{'interval_string': '04/09/21 02:24-02:40', 'evening': False, 'interval': 16, 'error': -82, 'abs_error': 82}\n",
      "{'interval_string': '04/09/21 02:41-02:55', 'evening': False, 'interval': 13, 'error': -61, 'abs_error': 61}\n",
      "{'interval_string': '04/09/21 02:55-03:03', 'evening': False, 'interval': 7, 'error': -70, 'abs_error': 70}\n",
      "{'interval_string': '04/09/21 03:49-04:09', 'evening': False, 'interval': 19, 'error': -69, 'abs_error': 69}\n",
      "person\n",
      "{'interval_string': '04/08/21 09:27-09:53', 'evening': True, 'interval': 25, 'error': -53, 'abs_error': 53}\n",
      "{'interval_string': '04/08/21 10:26-10:40', 'evening': True, 'interval': 14, 'error': -42, 'abs_error': 42}\n",
      "{'interval_string': '04/16/21 05:43-06:23', 'evening': True, 'interval': 40, 'error': -91, 'abs_error': 91}\n",
      "{'interval_string': '04/16/21 06:43-07:18', 'evening': True, 'interval': 34, 'error': -40, 'abs_error': 40}\n",
      "{'interval_string': '04/16/21 09:02-09:33', 'evening': True, 'interval': 31, 'error': 47, 'abs_error': 47}\n",
      "{'interval_string': '04/16/21 09:55-10:11', 'evening': True, 'interval': 15, 'error': -25, 'abs_error': 25}\n",
      "person\n",
      "{'interval_string': '04/02/21 04:38-04:53', 'evening': False, 'interval': 15, 'error': -22, 'abs_error': 22}\n",
      "person\n",
      "{'interval_string': '04/01/21 05:33-06:08', 'evening': True, 'interval': 35, 'error': -55, 'abs_error': 55}\n",
      "{'interval_string': '04/01/21 07:26-07:48', 'evening': True, 'interval': 22, 'error': -61, 'abs_error': 61}\n",
      "person\n",
      "person\n",
      "person\n"
     ]
    }
   ],
   "source": [
    "for e in es:\n",
    "    print('person')\n",
    "    for entry in e:\n",
    "        if entry['interval'] < entry['abs_error']:\n",
    "            print(entry)"
   ]
  },
  {
   "cell_type": "code",
   "execution_count": 190,
   "metadata": {},
   "outputs": [],
   "source": [
    "times_eve, errors_eve = [], []\n",
    "times_day, errors_day = [], []\n",
    "\n",
    "for entry in flat_es:\n",
    "    if entry['interval'] > entry['abs_error']:\n",
    "        if entry['evening']:\n",
    "            errors_eve.append(entry['error'])\n",
    "            times_eve.append(entry['interval'])\n",
    "        else:\n",
    "            errors_day.append(entry['error'])\n",
    "            times_day.append(entry['interval'])"
   ]
  },
  {
   "cell_type": "code",
   "execution_count": 191,
   "metadata": {},
   "outputs": [
    {
     "name": "stdout",
     "output_type": "stream",
     "text": [
      "13\n",
      "27\n"
     ]
    }
   ],
   "source": [
    "print(len(times_eve))\n",
    "print(len(times_day))"
   ]
  },
  {
   "cell_type": "code",
   "execution_count": 192,
   "metadata": {},
   "outputs": [
    {
     "name": "stdout",
     "output_type": "stream",
     "text": [
      "6.615384615384615\n",
      "13.407407407407407\n"
     ]
    }
   ],
   "source": [
    "print(np.mean([abs(e) for e in errors_eve]))\n",
    "print(np.mean([abs(e) for e in errors_day]))"
   ]
  },
  {
   "cell_type": "code",
   "execution_count": 193,
   "metadata": {},
   "outputs": [],
   "source": [
    "es_fixed_offbyhour = []\n",
    "\n",
    "for entry in flat_es:\n",
    "    if entry['interval'] < entry['abs_error'] and entry['abs_error'] >40:\n",
    "        new_e = entry.copy()\n",
    "        \n",
    "        if entry['error'] < 0:\n",
    "            new_e['error'] +=60\n",
    "        else:\n",
    "            new_e['error'] -=60\n",
    "        \n",
    "        new_e['abs_error'] = abs(new_e['error'])\n",
    "        \n",
    "        es_fixed_offbyhour.append(new_e)    \n",
    "    else:\n",
    "        es_fixed_offbyhour.append(entry)"
   ]
  },
  {
   "cell_type": "code",
   "execution_count": 194,
   "metadata": {},
   "outputs": [
    {
     "data": {
      "image/png": "[encoded data removed]",
      "text/plain": [
       "<Figure size 360x360 with 1 Axes>"
      ]
     },
     "metadata": {
      "needs_background": "light"
     },
     "output_type": "display_data"
    }
   ],
   "source": [
    "plot_errors(flat_es)"
   ]
  },
  {
   "cell_type": "code",
   "execution_count": 195,
   "metadata": {},
   "outputs": [
    {
     "data": {
      "image/png": "[encoded data removed]",
      "text/plain": [
       "<Figure size 360x360 with 1 Axes>"
      ]
     },
     "metadata": {
      "needs_background": "light"
     },
     "output_type": "display_data"
    }
   ],
   "source": [
    "plot_errors(es_fixed_offbyhour)"
   ]
  },
  {
   "cell_type": "code",
   "execution_count": 206,
   "metadata": {},
   "outputs": [],
   "source": [
    "times_eve, errors_eve = [], []\n",
    "times_day, errors_day = [], []\n",
    "\n",
    "for entry in es_fixed_offbyhour:\n",
    "    if entry['evening']:\n",
    "        errors_eve.append(entry['error'])\n",
    "        times_eve.append(entry['interval'])\n",
    "    else:\n",
    "        errors_day.append(entry['error'])\n",
    "        times_day.append(entry['interval'])"
   ]
  },
  {
   "cell_type": "code",
   "execution_count": 207,
   "metadata": {},
   "outputs": [
    {
     "name": "stdout",
     "output_type": "stream",
     "text": [
      "21\n",
      "36\n"
     ]
    }
   ],
   "source": [
    "print(len(times_eve))\n",
    "print(len(times_day))"
   ]
  },
  {
   "cell_type": "code",
   "execution_count": 209,
   "metadata": {},
   "outputs": [
    {
     "name": "stdout",
     "output_type": "stream",
     "text": [
      "0.3856323633172539\n",
      "0.5150547235810516\n",
      "10.761904761904763\n",
      "13.444444444444445\n",
      "10.857978246891882\n",
      "10.958113291693067\n"
     ]
    }
   ],
   "source": [
    "print(np.mean([abs(e)/t for e,t in zip(errors_eve, times_eve)]))\n",
    "print(np.mean([abs(e)/t for e,t in zip(errors_day, times_day)]))\n",
    "\n",
    "print(np.mean([abs(e) for e,t in zip(errors_eve, times_eve)]))\n",
    "print(np.mean([abs(e) for e,t in zip(errors_day, times_day)]))\n",
    "\n",
    "print(np.std([abs(e) for e,t in zip(errors_eve, times_eve)]))\n",
    "print(np.std([abs(e) for e,t in zip(errors_day, times_day)]))\n",
    "\n"
   ]
  },
  {
   "cell_type": "code",
   "execution_count": 213,
   "metadata": {},
   "outputs": [
    {
     "name": "stdout",
     "output_type": "stream",
     "text": [
      "31.047619047619047\n",
      "34.888888888888886\n"
     ]
    }
   ],
   "source": [
    "print(np.mean(times_eve))\n",
    "print(np.mean(times_day))"
   ]
  },
  {
   "cell_type": "code",
   "execution_count": 200,
   "metadata": {},
   "outputs": [
    {
     "name": "stdout",
     "output_type": "stream",
     "text": [
      "-2.4838709677419355\n",
      "-9.620689655172415\n"
     ]
    }
   ],
   "source": [
    "print(np.mean(errors_eve))\n",
    "print(np.mean(errors_day))\n"
   ]
  },
  {
   "cell_type": "code",
   "execution_count": 212,
   "metadata": {},
   "outputs": [
    {
     "name": "stdout",
     "output_type": "stream",
     "text": [
      "1908\n",
      "33.473684210526315\n",
      "710\n",
      "12.456140350877194\n",
      "-7.43859649122807\n",
      "7\n",
      "111\n"
     ]
    }
   ],
   "source": [
    "times, errors = [], []\n",
    "\n",
    "for entry in es_fixed_offbyhour:\n",
    "    times.append(entry['interval'])\n",
    "    errors.append(entry['error'])\n",
    "    \n",
    "print(sum(times))\n",
    "print(np.mean(times))\n",
    "print(sum([abs(e) for e in errors]))\n",
    "print(np.mean([abs(e) for e in errors]))\n",
    "print(np.mean(errors))\n",
    "print(min(times))\n",
    "print(max(times))"
   ]
  },
  {
   "cell_type": "code",
   "execution_count": null,
   "metadata": {},
   "outputs": [],
   "source": []
  }
 ],
 "metadata": {
  "kernelspec": {
   "display_name": "Python 3 (ipykernel)",
   "language": "python",
   "name": "python3"
  },
  "language_info": {
   "codemirror_mode": {
    "name": "ipython",
    "version": 3
   },
   "file_extension": ".py",
   "mimetype": "text/x-python",
   "name": "python",
   "nbconvert_exporter": "python",
   "pygments_lexer": "ipython3",
   "version": "3.9.16"
  }
 },
 "nbformat": 4,
 "nbformat_minor": 4
}
